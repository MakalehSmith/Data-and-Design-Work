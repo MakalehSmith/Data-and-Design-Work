{
 "cells": [
  {
   "cell_type": "markdown",
   "metadata": {},
   "source": [
    "This data set is a review of wines. The source of the data is Wine Magazine. The data set includes \n",
    "country\n",
    "The country that the wine is from description\n",
    "A few sentences from a sommelier describing the wine's taste, smell, look, feel, etc.\n",
    "designation\n",
    "The vineyard within the winery where the grapes that made the wine are from points\n",
    "The number of points WineEnthusiast rated the wine on a scale of 1-100 (though they say they only post reviews for wines that score >=80)price\n",
    "The cost for a bottle of the wine province\n",
    "The province or state that the wine is from region_1\n",
    "The wine growing area in a province or state (ie Napa) region_2\n",
    "Sometimes there are more specific regions specified within a wine growing area (ie Rutherford inside the Napa Valley), but this value can sometimes be blank taster_name\n",
    "Name of the person who tasted and reviewed the wine taster_twitter_handle\n",
    "Twitter handle for the person who tasted and reviewed the wine title\n",
    "The title of the wine review, which often contains the vintage if you're interested in extracting that feature variety\n",
    "The type of grapes used to make the wine (ie Pinot Noir)winery\n",
    "The winery that made the wine\n",
    "I chose this data set because I was interested in using a data set of reviews to practice this and this was the first review I came across."
   ]
  },
  {
   "cell_type": "code",
   "execution_count": 21,
   "metadata": {},
   "outputs": [],
   "source": [
    "import pandas as pd"
   ]
  },
  {
   "cell_type": "code",
   "execution_count": 2,
   "metadata": {},
   "outputs": [],
   "source": [
    "wine = pd.read_csv('data/winemag-data_first150k.csv')"
   ]
  },
  {
   "cell_type": "code",
   "execution_count": 7,
   "metadata": {},
   "outputs": [
    {
     "data": {
      "text/plain": [
       "<matplotlib.axes._subplots.AxesSubplot at 0x110549c88>"
      ]
     },
     "execution_count": 7,
     "metadata": {},
     "output_type": "execute_result"
    },
    {
     "data": {
      "image/png": "[encoded data removed]",
      "text/plain": [
       "<Figure size 432x288 with 1 Axes>"
      ]
     },
     "metadata": {},
     "output_type": "display_data"
    }
   ],
   "source": [
    "wine['points'].hist()"
   ]
  },
  {
   "cell_type": "code",
   "execution_count": 6,
   "metadata": {},
   "outputs": [],
   "source": [
    "%matplotlib inline\n",
    "import matplotlib.pyplot as plt"
   ]
  },
  {
   "cell_type": "code",
   "execution_count": 8,
   "metadata": {},
   "outputs": [
    {
     "data": {
      "text/html": [
       "<div>\n",
       "<style scoped>\n",
       "    .dataframe tbody tr th:only-of-type {\n",
       "        vertical-align: middle;\n",
       "    }\n",
       "\n",
       "    .dataframe tbody tr th {\n",
       "        vertical-align: top;\n",
       "    }\n",
       "\n",
       "    .dataframe thead th {\n",
       "        text-align: right;\n",
       "    }\n",
       "</style>\n",
       "<table border=\"1\" class=\"dataframe\">\n",
       "  <thead>\n",
       "    <tr style=\"text-align: right;\">\n",
       "      <th></th>\n",
       "      <th>points</th>\n",
       "      <th>price</th>\n",
       "    </tr>\n",
       "  </thead>\n",
       "  <tbody>\n",
       "    <tr>\n",
       "      <th>count</th>\n",
       "      <td>150930.000000</td>\n",
       "      <td>137235.000000</td>\n",
       "    </tr>\n",
       "    <tr>\n",
       "      <th>mean</th>\n",
       "      <td>87.888418</td>\n",
       "      <td>33.131482</td>\n",
       "    </tr>\n",
       "    <tr>\n",
       "      <th>std</th>\n",
       "      <td>3.222392</td>\n",
       "      <td>36.322536</td>\n",
       "    </tr>\n",
       "    <tr>\n",
       "      <th>min</th>\n",
       "      <td>80.000000</td>\n",
       "      <td>4.000000</td>\n",
       "    </tr>\n",
       "    <tr>\n",
       "      <th>25%</th>\n",
       "      <td>86.000000</td>\n",
       "      <td>16.000000</td>\n",
       "    </tr>\n",
       "    <tr>\n",
       "      <th>50%</th>\n",
       "      <td>88.000000</td>\n",
       "      <td>24.000000</td>\n",
       "    </tr>\n",
       "    <tr>\n",
       "      <th>75%</th>\n",
       "      <td>90.000000</td>\n",
       "      <td>40.000000</td>\n",
       "    </tr>\n",
       "    <tr>\n",
       "      <th>max</th>\n",
       "      <td>100.000000</td>\n",
       "      <td>2300.000000</td>\n",
       "    </tr>\n",
       "  </tbody>\n",
       "</table>\n",
       "</div>"
      ],
      "text/plain": [
       "              points          price\n",
       "count  150930.000000  137235.000000\n",
       "mean       87.888418      33.131482\n",
       "std         3.222392      36.322536\n",
       "min        80.000000       4.000000\n",
       "25%        86.000000      16.000000\n",
       "50%        88.000000      24.000000\n",
       "75%        90.000000      40.000000\n",
       "max       100.000000    2300.000000"
      ]
     },
     "execution_count": 8,
     "metadata": {},
     "output_type": "execute_result"
    }
   ],
   "source": [
    "wine[['points', 'price']].describe()"
   ]
  },
  {
   "cell_type": "code",
   "execution_count": 9,
   "metadata": {},
   "outputs": [
    {
     "data": {
      "text/html": [
       "<div>\n",
       "<style scoped>\n",
       "    .dataframe tbody tr th:only-of-type {\n",
       "        vertical-align: middle;\n",
       "    }\n",
       "\n",
       "    .dataframe tbody tr th {\n",
       "        vertical-align: top;\n",
       "    }\n",
       "\n",
       "    .dataframe thead th {\n",
       "        text-align: right;\n",
       "    }\n",
       "</style>\n",
       "<table border=\"1\" class=\"dataframe\">\n",
       "  <thead>\n",
       "    <tr style=\"text-align: right;\">\n",
       "      <th></th>\n",
       "      <th>Unnamed: 0</th>\n",
       "      <th>country</th>\n",
       "      <th>description</th>\n",
       "      <th>designation</th>\n",
       "      <th>price</th>\n",
       "      <th>province</th>\n",
       "      <th>region_1</th>\n",
       "      <th>region_2</th>\n",
       "      <th>variety</th>\n",
       "      <th>winery</th>\n",
       "    </tr>\n",
       "    <tr>\n",
       "      <th>points</th>\n",
       "      <th></th>\n",
       "      <th></th>\n",
       "      <th></th>\n",
       "      <th></th>\n",
       "      <th></th>\n",
       "      <th></th>\n",
       "      <th></th>\n",
       "      <th></th>\n",
       "      <th></th>\n",
       "      <th></th>\n",
       "    </tr>\n",
       "  </thead>\n",
       "  <tbody>\n",
       "    <tr>\n",
       "      <th>80</th>\n",
       "      <td>898</td>\n",
       "      <td>898</td>\n",
       "      <td>898</td>\n",
       "      <td>536</td>\n",
       "      <td>883</td>\n",
       "      <td>898</td>\n",
       "      <td>756</td>\n",
       "      <td>400</td>\n",
       "      <td>898</td>\n",
       "      <td>898</td>\n",
       "    </tr>\n",
       "    <tr>\n",
       "      <th>81</th>\n",
       "      <td>1502</td>\n",
       "      <td>1499</td>\n",
       "      <td>1502</td>\n",
       "      <td>917</td>\n",
       "      <td>1469</td>\n",
       "      <td>1499</td>\n",
       "      <td>1252</td>\n",
       "      <td>642</td>\n",
       "      <td>1502</td>\n",
       "      <td>1502</td>\n",
       "    </tr>\n",
       "    <tr>\n",
       "      <th>82</th>\n",
       "      <td>4041</td>\n",
       "      <td>4041</td>\n",
       "      <td>4041</td>\n",
       "      <td>2323</td>\n",
       "      <td>3933</td>\n",
       "      <td>4041</td>\n",
       "      <td>3482</td>\n",
       "      <td>2255</td>\n",
       "      <td>4041</td>\n",
       "      <td>4041</td>\n",
       "    </tr>\n",
       "    <tr>\n",
       "      <th>83</th>\n",
       "      <td>6048</td>\n",
       "      <td>6048</td>\n",
       "      <td>6048</td>\n",
       "      <td>3600</td>\n",
       "      <td>5807</td>\n",
       "      <td>6048</td>\n",
       "      <td>5057</td>\n",
       "      <td>2739</td>\n",
       "      <td>6048</td>\n",
       "      <td>6048</td>\n",
       "    </tr>\n",
       "    <tr>\n",
       "      <th>84</th>\n",
       "      <td>10708</td>\n",
       "      <td>10708</td>\n",
       "      <td>10708</td>\n",
       "      <td>6343</td>\n",
       "      <td>10120</td>\n",
       "      <td>10708</td>\n",
       "      <td>8834</td>\n",
       "      <td>4899</td>\n",
       "      <td>10708</td>\n",
       "      <td>10708</td>\n",
       "    </tr>\n",
       "    <tr>\n",
       "      <th>85</th>\n",
       "      <td>12411</td>\n",
       "      <td>12411</td>\n",
       "      <td>12411</td>\n",
       "      <td>7658</td>\n",
       "      <td>11604</td>\n",
       "      <td>12411</td>\n",
       "      <td>10047</td>\n",
       "      <td>5004</td>\n",
       "      <td>12411</td>\n",
       "      <td>12411</td>\n",
       "    </tr>\n",
       "    <tr>\n",
       "      <th>86</th>\n",
       "      <td>15573</td>\n",
       "      <td>15573</td>\n",
       "      <td>15573</td>\n",
       "      <td>10045</td>\n",
       "      <td>14351</td>\n",
       "      <td>15573</td>\n",
       "      <td>12542</td>\n",
       "      <td>5743</td>\n",
       "      <td>15573</td>\n",
       "      <td>15573</td>\n",
       "    </tr>\n",
       "    <tr>\n",
       "      <th>87</th>\n",
       "      <td>20747</td>\n",
       "      <td>20747</td>\n",
       "      <td>20747</td>\n",
       "      <td>13824</td>\n",
       "      <td>19025</td>\n",
       "      <td>20747</td>\n",
       "      <td>17334</td>\n",
       "      <td>8037</td>\n",
       "      <td>20747</td>\n",
       "      <td>20747</td>\n",
       "    </tr>\n",
       "    <tr>\n",
       "      <th>88</th>\n",
       "      <td>17871</td>\n",
       "      <td>17871</td>\n",
       "      <td>17871</td>\n",
       "      <td>12554</td>\n",
       "      <td>16034</td>\n",
       "      <td>17871</td>\n",
       "      <td>14658</td>\n",
       "      <td>6441</td>\n",
       "      <td>17871</td>\n",
       "      <td>17871</td>\n",
       "    </tr>\n",
       "    <tr>\n",
       "      <th>89</th>\n",
       "      <td>12921</td>\n",
       "      <td>12921</td>\n",
       "      <td>12921</td>\n",
       "      <td>9546</td>\n",
       "      <td>11557</td>\n",
       "      <td>12921</td>\n",
       "      <td>10143</td>\n",
       "      <td>4246</td>\n",
       "      <td>12921</td>\n",
       "      <td>12921</td>\n",
       "    </tr>\n",
       "    <tr>\n",
       "      <th>90</th>\n",
       "      <td>15973</td>\n",
       "      <td>15971</td>\n",
       "      <td>15973</td>\n",
       "      <td>11868</td>\n",
       "      <td>14404</td>\n",
       "      <td>15971</td>\n",
       "      <td>13196</td>\n",
       "      <td>6287</td>\n",
       "      <td>15973</td>\n",
       "      <td>15973</td>\n",
       "    </tr>\n",
       "    <tr>\n",
       "      <th>91</th>\n",
       "      <td>10536</td>\n",
       "      <td>10536</td>\n",
       "      <td>10536</td>\n",
       "      <td>8207</td>\n",
       "      <td>9211</td>\n",
       "      <td>10536</td>\n",
       "      <td>8927</td>\n",
       "      <td>4136</td>\n",
       "      <td>10536</td>\n",
       "      <td>10536</td>\n",
       "    </tr>\n",
       "    <tr>\n",
       "      <th>92</th>\n",
       "      <td>9241</td>\n",
       "      <td>9241</td>\n",
       "      <td>9241</td>\n",
       "      <td>7390</td>\n",
       "      <td>8119</td>\n",
       "      <td>9241</td>\n",
       "      <td>8211</td>\n",
       "      <td>4329</td>\n",
       "      <td>9241</td>\n",
       "      <td>9241</td>\n",
       "    </tr>\n",
       "    <tr>\n",
       "      <th>93</th>\n",
       "      <td>6017</td>\n",
       "      <td>6017</td>\n",
       "      <td>6017</td>\n",
       "      <td>5036</td>\n",
       "      <td>5197</td>\n",
       "      <td>6017</td>\n",
       "      <td>5437</td>\n",
       "      <td>2775</td>\n",
       "      <td>6017</td>\n",
       "      <td>6017</td>\n",
       "    </tr>\n",
       "    <tr>\n",
       "      <th>94</th>\n",
       "      <td>3462</td>\n",
       "      <td>3462</td>\n",
       "      <td>3462</td>\n",
       "      <td>2876</td>\n",
       "      <td>3007</td>\n",
       "      <td>3462</td>\n",
       "      <td>3181</td>\n",
       "      <td>1696</td>\n",
       "      <td>3462</td>\n",
       "      <td>3462</td>\n",
       "    </tr>\n",
       "    <tr>\n",
       "      <th>95</th>\n",
       "      <td>1716</td>\n",
       "      <td>1716</td>\n",
       "      <td>1716</td>\n",
       "      <td>1455</td>\n",
       "      <td>1466</td>\n",
       "      <td>1716</td>\n",
       "      <td>1613</td>\n",
       "      <td>794</td>\n",
       "      <td>1716</td>\n",
       "      <td>1716</td>\n",
       "    </tr>\n",
       "    <tr>\n",
       "      <th>96</th>\n",
       "      <td>695</td>\n",
       "      <td>695</td>\n",
       "      <td>695</td>\n",
       "      <td>572</td>\n",
       "      <td>567</td>\n",
       "      <td>695</td>\n",
       "      <td>651</td>\n",
       "      <td>311</td>\n",
       "      <td>695</td>\n",
       "      <td>695</td>\n",
       "    </tr>\n",
       "    <tr>\n",
       "      <th>97</th>\n",
       "      <td>365</td>\n",
       "      <td>365</td>\n",
       "      <td>365</td>\n",
       "      <td>281</td>\n",
       "      <td>303</td>\n",
       "      <td>365</td>\n",
       "      <td>346</td>\n",
       "      <td>143</td>\n",
       "      <td>365</td>\n",
       "      <td>365</td>\n",
       "    </tr>\n",
       "    <tr>\n",
       "      <th>98</th>\n",
       "      <td>131</td>\n",
       "      <td>131</td>\n",
       "      <td>131</td>\n",
       "      <td>97</td>\n",
       "      <td>114</td>\n",
       "      <td>131</td>\n",
       "      <td>130</td>\n",
       "      <td>50</td>\n",
       "      <td>131</td>\n",
       "      <td>131</td>\n",
       "    </tr>\n",
       "    <tr>\n",
       "      <th>99</th>\n",
       "      <td>50</td>\n",
       "      <td>50</td>\n",
       "      <td>50</td>\n",
       "      <td>46</td>\n",
       "      <td>40</td>\n",
       "      <td>50</td>\n",
       "      <td>49</td>\n",
       "      <td>16</td>\n",
       "      <td>50</td>\n",
       "      <td>50</td>\n",
       "    </tr>\n",
       "    <tr>\n",
       "      <th>100</th>\n",
       "      <td>24</td>\n",
       "      <td>24</td>\n",
       "      <td>24</td>\n",
       "      <td>21</td>\n",
       "      <td>24</td>\n",
       "      <td>24</td>\n",
       "      <td>24</td>\n",
       "      <td>10</td>\n",
       "      <td>24</td>\n",
       "      <td>24</td>\n",
       "    </tr>\n",
       "  </tbody>\n",
       "</table>\n",
       "</div>"
      ],
      "text/plain": [
       "        Unnamed: 0  country  description  designation  price  province  \\\n",
       "points                                                                   \n",
       "80             898      898          898          536    883       898   \n",
       "81            1502     1499         1502          917   1469      1499   \n",
       "82            4041     4041         4041         2323   3933      4041   \n",
       "83            6048     6048         6048         3600   5807      6048   \n",
       "84           10708    10708        10708         6343  10120     10708   \n",
       "85           12411    12411        12411         7658  11604     12411   \n",
       "86           15573    15573        15573        10045  14351     15573   \n",
       "87           20747    20747        20747        13824  19025     20747   \n",
       "88           17871    17871        17871        12554  16034     17871   \n",
       "89           12921    12921        12921         9546  11557     12921   \n",
       "90           15973    15971        15973        11868  14404     15971   \n",
       "91           10536    10536        10536         8207   9211     10536   \n",
       "92            9241     9241         9241         7390   8119      9241   \n",
       "93            6017     6017         6017         5036   5197      6017   \n",
       "94            3462     3462         3462         2876   3007      3462   \n",
       "95            1716     1716         1716         1455   1466      1716   \n",
       "96             695      695          695          572    567       695   \n",
       "97             365      365          365          281    303       365   \n",
       "98             131      131          131           97    114       131   \n",
       "99              50       50           50           46     40        50   \n",
       "100             24       24           24           21     24        24   \n",
       "\n",
       "        region_1  region_2  variety  winery  \n",
       "points                                       \n",
       "80           756       400      898     898  \n",
       "81          1252       642     1502    1502  \n",
       "82          3482      2255     4041    4041  \n",
       "83          5057      2739     6048    6048  \n",
       "84          8834      4899    10708   10708  \n",
       "85         10047      5004    12411   12411  \n",
       "86         12542      5743    15573   15573  \n",
       "87         17334      8037    20747   20747  \n",
       "88         14658      6441    17871   17871  \n",
       "89         10143      4246    12921   12921  \n",
       "90         13196      6287    15973   15973  \n",
       "91          8927      4136    10536   10536  \n",
       "92          8211      4329     9241    9241  \n",
       "93          5437      2775     6017    6017  \n",
       "94          3181      1696     3462    3462  \n",
       "95          1613       794     1716    1716  \n",
       "96           651       311      695     695  \n",
       "97           346       143      365     365  \n",
       "98           130        50      131     131  \n",
       "99            49        16       50      50  \n",
       "100           24        10       24      24  "
      ]
     },
     "execution_count": 9,
     "metadata": {},
     "output_type": "execute_result"
    }
   ],
   "source": [
    "wine.groupby('points').count()"
   ]
  },
  {
   "cell_type": "code",
   "execution_count": 10,
   "metadata": {},
   "outputs": [
    {
     "data": {
      "text/plain": [
       "points\n",
       "80       883\n",
       "81      1469\n",
       "82      3933\n",
       "83      5807\n",
       "84     10120\n",
       "85     11604\n",
       "86     14351\n",
       "87     19025\n",
       "88     16034\n",
       "89     11557\n",
       "90     14404\n",
       "91      9211\n",
       "92      8119\n",
       "93      5197\n",
       "94      3007\n",
       "95      1466\n",
       "96       567\n",
       "97       303\n",
       "98       114\n",
       "99        40\n",
       "100       24\n",
       "Name: price, dtype: int64"
      ]
     },
     "execution_count": 10,
     "metadata": {},
     "output_type": "execute_result"
    }
   ],
   "source": [
    "wine.groupby('points')['price'].count()"
   ]
  },
  {
   "cell_type": "code",
   "execution_count": 11,
   "metadata": {},
   "outputs": [],
   "source": [
    "pp = wine.groupby('points')['price'].count()"
   ]
  },
  {
   "cell_type": "code",
   "execution_count": 12,
   "metadata": {},
   "outputs": [
    {
     "data": {
      "text/plain": [
       "points\n",
       "80       883\n",
       "81      1469\n",
       "82      3933\n",
       "83      5807\n",
       "84     10120\n",
       "85     11604\n",
       "86     14351\n",
       "87     19025\n",
       "88     16034\n",
       "89     11557\n",
       "90     14404\n",
       "91      9211\n",
       "92      8119\n",
       "93      5197\n",
       "94      3007\n",
       "95      1466\n",
       "96       567\n",
       "97       303\n",
       "98       114\n",
       "99        40\n",
       "100       24\n",
       "Name: price, dtype: int64"
      ]
     },
     "execution_count": 12,
     "metadata": {},
     "output_type": "execute_result"
    }
   ],
   "source": [
    "pp"
   ]
  },
  {
   "cell_type": "code",
   "execution_count": 15,
   "metadata": {},
   "outputs": [
    {
     "data": {
      "text/plain": [
       "883"
      ]
     },
     "execution_count": 15,
     "metadata": {},
     "output_type": "execute_result"
    }
   ],
   "source": [
    "pp[80]"
   ]
  },
  {
   "cell_type": "code",
   "execution_count": 16,
   "metadata": {},
   "outputs": [
    {
     "data": {
      "text/plain": [
       "pandas.core.series.Series"
      ]
     },
     "execution_count": 16,
     "metadata": {},
     "output_type": "execute_result"
    }
   ],
   "source": [
    "type(pp)"
   ]
  },
  {
   "cell_type": "code",
   "execution_count": 18,
   "metadata": {},
   "outputs": [
    {
     "data": {
      "text/plain": [
       "Int64Index([ 80,  81,  82,  83,  84,  85,  86,  87,  88,  89,  90,  91,  92,\n",
       "             93,  94,  95,  96,  97,  98,  99, 100],\n",
       "           dtype='int64', name='points')"
      ]
     },
     "execution_count": 18,
     "metadata": {},
     "output_type": "execute_result"
    }
   ],
   "source": [
    "pp.index"
   ]
  },
  {
   "cell_type": "code",
   "execution_count": 19,
   "metadata": {},
   "outputs": [
    {
     "data": {
      "text/plain": [
       "points\n",
       "80       883\n",
       "81      1469\n",
       "82      3933\n",
       "83      5807\n",
       "84     10120\n",
       "85     11604\n",
       "86     14351\n",
       "87     19025\n",
       "88     16034\n",
       "89     11557\n",
       "90     14404\n",
       "91      9211\n",
       "92      8119\n",
       "93      5197\n",
       "94      3007\n",
       "95      1466\n",
       "96       567\n",
       "97       303\n",
       "98       114\n",
       "99        40\n",
       "100       24\n",
       "Name: price, dtype: int64"
      ]
     },
     "execution_count": 19,
     "metadata": {},
     "output_type": "execute_result"
    }
   ],
   "source": [
    "pp[:]"
   ]
  },
  {
   "cell_type": "code",
   "execution_count": 20,
   "metadata": {},
   "outputs": [
    {
     "data": {
      "text/plain": [
       "<BarContainer object of 21 artists>"
      ]
     },
     "execution_count": 20,
     "metadata": {},
     "output_type": "execute_result"
    },
    {
     "data": {
      "image/png": "[encoded data removed]",
      "text/plain": [
       "<Figure size 432x288 with 1 Axes>"
      ]
     },
     "metadata": {},
     "output_type": "display_data"
    }
   ],
   "source": [
    "plt.bar(pp.index, pp)"
   ]
  }
 ],
 "metadata": {
  "kernelspec": {
   "display_name": "Python 3",
   "language": "python",
   "name": "python3"
  },
  "language_info": {
   "codemirror_mode": {
    "name": "ipython",
    "version": 3
   },
   "file_extension": ".py",
   "mimetype": "text/x-python",
   "name": "python",
   "nbconvert_exporter": "python",
   "pygments_lexer": "ipython3",
   "version": "3.6.5"
  }
 },
 "nbformat": 4,
 "nbformat_minor": 2
}
